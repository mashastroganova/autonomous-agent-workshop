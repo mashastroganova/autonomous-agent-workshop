{
 "cells": [
  {
   "cell_type": "code",
   "execution_count": null,
   "metadata": {},
   "outputs": [],
   "source": [
    "from IPython import get_ipython\n",
    "from typing_extensions import Annotated\n",
    "from dotenv import load_dotenv, find_dotenv\n",
    "\n",
    "import autogen\n",
    "from autogen.cache import Cache\n",
    "import os\n",
    "\n",
    "load_dotenv(find_dotenv())\n",
    "\n",
    "config_list = autogen.config_list_from_json(\n",
    "    \"OAI_CONFIG_LIST.json\",\n",
    "    filter_dict={\n",
    "        \"model\": [\"gpt-4o\", \"gpt4-turbo\"],\n",
    "    },\n",
    ")\n",
    "\n",
    "settings = {\n",
    "    'host': os.getenv('ACCOUNT_HOST'),\n",
    "    'master_key': os.getenv('ACCOUNT_KEY'),\n",
    "    'database_id': os.getenv('COSMOS_DATABASE'),\n",
    "    'container_id': os.getenv('COSMOS_CONTAINER'),\n",
    "}\n",
    "\n",
    "for key, value in settings.items():\n",
    "    if value is None:\n",
    "        raise ValueError(f\"Missing environment variable for {key}\")"
   ]
  },
  {
   "cell_type": "code",
   "execution_count": null,
   "metadata": {},
   "outputs": [],
   "source": [
    "onboarding_buddy_prompt = \"\"\"\n",
    "You are an experienced onboarding buddy, working with a new hire. You need to guide the user through the onboarding process. You have all tthe information you need to help the user onboard. You are responsible for ensuring the user is onboarded successfully.\n",
    "If you do not know the answer to a question, you can ask the supervisor for help.    \n",
    "\"\"\"\n",
    "\n",
    "supervisor_prompt = \"\"\"\n",
    "You are a supervisor. You are responsible for ensuring that the onboarding buddy is able to guide the new hire through the onboarding process. You need to provide the onboarding buddy with the information they need to help the new hire onboard successfuly.\n",
    "You are responsible for the onboarding process and ensuring that the new hire is onboarded successfully.\n",
    "\"\"\""
   ]
  },
  {
   "cell_type": "code",
   "execution_count": null,
   "metadata": {},
   "outputs": [],
   "source": [
    "from autogen import ConversableAgent\n",
    "from autogen.coding import DockerCommandLineCodeExecutor\n",
    "\n",
    "llm_config = {\"config_list\": config_list, \"cache_seed\": 42}\n",
    "user_proxy = autogen.UserProxyAgent(\n",
    "    name=\"User_proxy\",\n",
    "    system_message=\"The new hire.\",\n",
    "    human_input_mode=\"ALWAYS\",\n",
    "    code_execution_config=False\n",
    ")\n",
    "\n",
    "onboarding_buddy = autogen.ConversableAgent(\n",
    "    name=\"onboarding_buddy\",\n",
    "    system_message= onboarding_buddy_prompt,\n",
    "    llm_config=llm_config,\n",
    ")\n",
    "supervisor = autogen.ConversableAgent(\n",
    "    name=\"supervisor\",\n",
    "    system_message=supervisor_prompt,\n",
    "    llm_config=llm_config,\n",
    ")\n",
    "\n",
    "groupchat = autogen.GroupChat(agents=[user_proxy, onboarding_buddy, supervisor], messages=[], max_round=50)\n",
    "manager = autogen.GroupChatManager(groupchat=groupchat, llm_config=llm_config)"
   ]
  }
 ],
 "metadata": {
  "language_info": {
   "name": "python"
  }
 },
 "nbformat": 4,
 "nbformat_minor": 2
}
